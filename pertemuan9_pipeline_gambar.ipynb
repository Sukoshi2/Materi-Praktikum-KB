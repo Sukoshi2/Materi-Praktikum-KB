{
 "cells": [
  {
   "cell_type": "markdown",
   "id": "1bbd905c",
   "metadata": {},
   "source": [
    "### Gunting batu kertas\n",
    "<a href=\"https://www.kaggle.com/datasets/drgfreeman/rockpaperscissors\"> **Gunting, batu, kertas drgfreeman**"
   ]
  },
  {
   "cell_type": "code",
   "execution_count": 7,
   "id": "f4cddcb9",
   "metadata": {},
   "outputs": [],
   "source": [
    "import pandas as pd\n",
    "import numpy as np\n",
    "import os\n",
    "import shutil\n",
    "import re\n",
    "import random"
   ]
  },
  {
   "cell_type": "code",
   "execution_count": 8,
   "id": "52e27e45",
   "metadata": {},
   "outputs": [],
   "source": [
    "root_path = r\"C:\\Users\\PC-01\\Materi-Praktikum-KB\\dataset\\gbk\""
   ]
  },
  {
   "cell_type": "code",
   "execution_count": 9,
   "id": "34b9e0a9",
   "metadata": {},
   "outputs": [],
   "source": [
    "folders = {}\n",
    "for folder in os.listdir(root_path):\n",
    "    folders[folder] = len(os.listdir(os.path.join(root_path, folder)))"
   ]
  },
  {
   "cell_type": "code",
   "execution_count": 10,
   "id": "39596cfb",
   "metadata": {},
   "outputs": [
    {
     "data": {
      "text/plain": [
       "{'.ipynb_checkpoints': 0, 'paper': 712, 'rock': 726, 'scissors': 750}"
      ]
     },
     "execution_count": 10,
     "metadata": {},
     "output_type": "execute_result"
    }
   ],
   "source": [
    "folders"
   ]
  },
  {
   "cell_type": "code",
   "execution_count": 11,
   "id": "a93d96bb",
   "metadata": {},
   "outputs": [
    {
     "data": {
      "text/plain": [
       "['.ipynb_checkpoints', 'paper', 'rock', 'scissors']"
      ]
     },
     "execution_count": 11,
     "metadata": {},
     "output_type": "execute_result"
    }
   ],
   "source": [
    "nama_class = []\n",
    "for nama in folders:\n",
    "    nama_class.append(nama)\n",
    "nama_class"
   ]
  },
  {
   "cell_type": "code",
   "execution_count": 13,
   "id": "40e9ea34",
   "metadata": {},
   "outputs": [],
   "source": [
    "if os.path.isdir(os.path.join(root_path, \"training\")):\n",
    "    print(f\"folder {os.path.join(root_path, 'training')} telah ada\")\n",
    "else:\n",
    "    os.makedirs(os.path.join(root_path, \"training\"))\n",
    "    for folder in folders.keys():\n",
    "        os.makedirs(os.path.join(root_path, f\"training/{folder}\"))\n",
    "                \n",
    "                \n",
    "if os.path.isdir(os.path.join(root_path, \"validation\")):\n",
    "    print(f\"folder {os.path.join(root_path, 'validation')} telah ada\")\n",
    "else:\n",
    "    os.makedirs(os.path.join(root_path, \"validation\"))\n",
    "    for folder in folders.keys():\n",
    "        os.makedirs(os.path.join(root_path, f\"validation/{folder}\"))\n",
    "\n",
    "                \n",
    "if os.path.isdir(os.path.join(root_path, \"testing\")):\n",
    "    print(f\"folder {os.path.join(root_path, 'testing')} telah ada\")\n",
    "else:\n",
    "    os.makedirs(os.path.join(root_path, \"testing\"))\n",
    "    for folder in folders.keys():\n",
    "        os.makedirs(os.path.join(root_path, f\"testing/{folder}\"))\n"
   ]
  },
  {
   "cell_type": "code",
   "execution_count": null,
   "id": "f8e1376f",
   "metadata": {},
   "outputs": [],
   "source": []
  }
 ],
 "metadata": {
  "kernelspec": {
   "display_name": "Python 3 (ipykernel)",
   "language": "python",
   "name": "python3"
  },
  "language_info": {
   "codemirror_mode": {
    "name": "ipython",
    "version": 3
   },
   "file_extension": ".py",
   "mimetype": "text/x-python",
   "name": "python",
   "nbconvert_exporter": "python",
   "pygments_lexer": "ipython3",
   "version": "3.10.7"
  }
 },
 "nbformat": 4,
 "nbformat_minor": 5
}
