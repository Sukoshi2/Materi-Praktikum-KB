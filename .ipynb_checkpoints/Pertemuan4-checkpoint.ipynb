{
 "cells": [
  {
   "cell_type": "markdown",
   "id": "410aa6b1",
   "metadata": {},
   "source": [
    "## Materi 3 Data Pre-Processing\n",
    "\n",
    "tentang pandas, numpy scikit-learn\n",
    "<a href=\"https://www.kaggle.com/datasets/sumanthvrao/daily-climate-time-series-data\"> **website untuk dataset climate**\n"
   ]
  },
  {
   "cell_type": "code",
   "execution_count": 3,
   "id": "3ea9bdaa",
   "metadata": {},
   "outputs": [],
   "source": [
    "import pandas as pd\n",
    "import numpy as np\n",
    "from sklearn.model_selection import train_test_split\n",
    "import sklearn as sk"
   ]
  },
  {
   "cell_type": "code",
   "execution_count": 31,
   "id": "1c647cb4",
   "metadata": {},
   "outputs": [],
   "source": [
    "df = pd.read_csv('dataset/dailyDelhiClimateTest.csv')"
   ]
  },
  {
   "cell_type": "code",
   "execution_count": 32,
   "id": "9fed5296",
   "metadata": {},
   "outputs": [
    {
     "data": {
      "text/html": [
       "<div>\n",
       "<style scoped>\n",
       "    .dataframe tbody tr th:only-of-type {\n",
       "        vertical-align: middle;\n",
       "    }\n",
       "\n",
       "    .dataframe tbody tr th {\n",
       "        vertical-align: top;\n",
       "    }\n",
       "\n",
       "    .dataframe thead th {\n",
       "        text-align: right;\n",
       "    }\n",
       "</style>\n",
       "<table border=\"1\" class=\"dataframe\">\n",
       "  <thead>\n",
       "    <tr style=\"text-align: right;\">\n",
       "      <th></th>\n",
       "      <th>date</th>\n",
       "      <th>meantemp</th>\n",
       "      <th>humidity</th>\n",
       "      <th>wind_speed</th>\n",
       "      <th>meanpressure</th>\n",
       "    </tr>\n",
       "  </thead>\n",
       "  <tbody>\n",
       "    <tr>\n",
       "      <th>0</th>\n",
       "      <td>2017-01-01</td>\n",
       "      <td>15.913043</td>\n",
       "      <td>85.869565</td>\n",
       "      <td>2.743478</td>\n",
       "      <td>59.000000</td>\n",
       "    </tr>\n",
       "    <tr>\n",
       "      <th>1</th>\n",
       "      <td>2017-01-02</td>\n",
       "      <td>18.500000</td>\n",
       "      <td>77.222222</td>\n",
       "      <td>2.894444</td>\n",
       "      <td>1018.277778</td>\n",
       "    </tr>\n",
       "    <tr>\n",
       "      <th>2</th>\n",
       "      <td>2017-01-03</td>\n",
       "      <td>17.111111</td>\n",
       "      <td>81.888889</td>\n",
       "      <td>4.016667</td>\n",
       "      <td>1018.333333</td>\n",
       "    </tr>\n",
       "    <tr>\n",
       "      <th>3</th>\n",
       "      <td>2017-01-04</td>\n",
       "      <td>18.700000</td>\n",
       "      <td>70.050000</td>\n",
       "      <td>4.545000</td>\n",
       "      <td>1015.700000</td>\n",
       "    </tr>\n",
       "    <tr>\n",
       "      <th>4</th>\n",
       "      <td>2017-01-05</td>\n",
       "      <td>18.388889</td>\n",
       "      <td>74.944444</td>\n",
       "      <td>3.300000</td>\n",
       "      <td>1014.333333</td>\n",
       "    </tr>\n",
       "    <tr>\n",
       "      <th>...</th>\n",
       "      <td>...</td>\n",
       "      <td>...</td>\n",
       "      <td>...</td>\n",
       "      <td>...</td>\n",
       "      <td>...</td>\n",
       "    </tr>\n",
       "    <tr>\n",
       "      <th>109</th>\n",
       "      <td>2017-04-20</td>\n",
       "      <td>34.500000</td>\n",
       "      <td>27.500000</td>\n",
       "      <td>5.562500</td>\n",
       "      <td>998.625000</td>\n",
       "    </tr>\n",
       "    <tr>\n",
       "      <th>110</th>\n",
       "      <td>2017-04-21</td>\n",
       "      <td>34.250000</td>\n",
       "      <td>39.375000</td>\n",
       "      <td>6.962500</td>\n",
       "      <td>999.875000</td>\n",
       "    </tr>\n",
       "    <tr>\n",
       "      <th>111</th>\n",
       "      <td>2017-04-22</td>\n",
       "      <td>32.900000</td>\n",
       "      <td>40.900000</td>\n",
       "      <td>8.890000</td>\n",
       "      <td>1001.600000</td>\n",
       "    </tr>\n",
       "    <tr>\n",
       "      <th>112</th>\n",
       "      <td>2017-04-23</td>\n",
       "      <td>32.875000</td>\n",
       "      <td>27.500000</td>\n",
       "      <td>9.962500</td>\n",
       "      <td>1002.125000</td>\n",
       "    </tr>\n",
       "    <tr>\n",
       "      <th>113</th>\n",
       "      <td>2017-04-24</td>\n",
       "      <td>32.000000</td>\n",
       "      <td>27.142857</td>\n",
       "      <td>12.157143</td>\n",
       "      <td>1004.142857</td>\n",
       "    </tr>\n",
       "  </tbody>\n",
       "</table>\n",
       "<p>114 rows × 5 columns</p>\n",
       "</div>"
      ],
      "text/plain": [
       "           date   meantemp   humidity  wind_speed  meanpressure\n",
       "0    2017-01-01  15.913043  85.869565    2.743478     59.000000\n",
       "1    2017-01-02  18.500000  77.222222    2.894444   1018.277778\n",
       "2    2017-01-03  17.111111  81.888889    4.016667   1018.333333\n",
       "3    2017-01-04  18.700000  70.050000    4.545000   1015.700000\n",
       "4    2017-01-05  18.388889  74.944444    3.300000   1014.333333\n",
       "..          ...        ...        ...         ...           ...\n",
       "109  2017-04-20  34.500000  27.500000    5.562500    998.625000\n",
       "110  2017-04-21  34.250000  39.375000    6.962500    999.875000\n",
       "111  2017-04-22  32.900000  40.900000    8.890000   1001.600000\n",
       "112  2017-04-23  32.875000  27.500000    9.962500   1002.125000\n",
       "113  2017-04-24  32.000000  27.142857   12.157143   1004.142857\n",
       "\n",
       "[114 rows x 5 columns]"
      ]
     },
     "execution_count": 32,
     "metadata": {},
     "output_type": "execute_result"
    }
   ],
   "source": [
    "df"
   ]
  },
  {
   "cell_type": "code",
   "execution_count": 33,
   "id": "0bfb4df9",
   "metadata": {},
   "outputs": [
    {
     "data": {
      "text/plain": [
       "(114, 5)"
      ]
     },
     "execution_count": 33,
     "metadata": {},
     "output_type": "execute_result"
    }
   ],
   "source": [
    "df.shape"
   ]
  },
  {
   "cell_type": "markdown",
   "id": "ff07d71c",
   "metadata": {},
   "source": [
    "#### Data Split"
   ]
  },
  {
   "cell_type": "code",
   "execution_count": 34,
   "id": "6bc292df",
   "metadata": {},
   "outputs": [],
   "source": [
    "x = df.iloc[:,:-1]\n",
    "y = df.iloc[:,-1]"
   ]
  },
  {
   "cell_type": "code",
   "execution_count": 35,
   "id": "c68ad446",
   "metadata": {},
   "outputs": [],
   "source": [
    "x_train, x_test, y_train, y_test = train_test_split(x, y, test_size = 0.2) ###0.2 = 20%"
   ]
  },
  {
   "cell_type": "code",
   "execution_count": 36,
   "id": "0b1e895b",
   "metadata": {},
   "outputs": [
    {
     "name": "stdout",
     "output_type": "stream",
     "text": [
      "Dimensi X_train :  (91, 4)\n",
      "Dimensi X_test :  (23, 4)\n",
      "Dimensi y_train :  (91,)\n",
      "Dimensi y_text :  (23,)\n"
     ]
    }
   ],
   "source": [
    "print(\"Dimensi X_train : \", x_train.shape)\n",
    "print(\"Dimensi X_test : \", x_test.shape)\n",
    "print(\"Dimensi y_train : \", y_train.shape)\n",
    "print(\"Dimensi y_text : \", y_test.shape)"
   ]
  },
  {
   "cell_type": "markdown",
   "id": "86566675",
   "metadata": {},
   "source": [
    "#### Transformasi Data\n",
    "\n",
    "1. Standarisasi"
   ]
  },
  {
   "cell_type": "code",
   "execution_count": 37,
   "id": "30b04c48",
   "metadata": {},
   "outputs": [],
   "source": [
    "from sklearn.preprocessing import StandardScaler"
   ]
  },
  {
   "cell_type": "code",
   "execution_count": 38,
   "id": "9e71fd9c",
   "metadata": {},
   "outputs": [],
   "source": [
    "ss = StandardScaler()\n",
    "Scaled_data = ss.fit_transform(df[['meantemp', 'humidity', 'wind_speed', 'meanpressure']])"
   ]
  },
  {
   "cell_type": "code",
   "execution_count": 39,
   "id": "7cde5a80",
   "metadata": {},
   "outputs": [
    {
     "name": "stdout",
     "output_type": "stream",
     "text": [
      "Nilai sebelum standarisasi\n",
      "Standar Deviasi :  meantemp         6.332115\n",
      "humidity        18.984267\n",
      "wind_speed       3.572278\n",
      "meanpressure    89.081395\n",
      "dtype: float64\n"
     ]
    },
    {
     "name": "stderr",
     "output_type": "stream",
     "text": [
      "C:\\Users\\PC-01\\AppData\\Local\\Programs\\Python\\Python310\\lib\\site-packages\\numpy\\core\\fromnumeric.py:3571: FutureWarning: The default value of numeric_only in DataFrame.std is deprecated. In a future version, it will default to False. In addition, specifying 'numeric_only=None' is deprecated. Select only valid columns or specify the value of numeric_only to silence this warning.\n",
      "  return std(axis=axis, dtype=dtype, out=out, ddof=ddof, **kwargs)\n"
     ]
    }
   ],
   "source": [
    "print(\"Nilai sebelum standarisasi\")\n",
    "print(\"Standar Deviasi : \", np.std(df))"
   ]
  },
  {
   "cell_type": "markdown",
   "id": "30006b28",
   "metadata": {},
   "source": [
    "2. Normalisasi"
   ]
  },
  {
   "cell_type": "code",
   "execution_count": 40,
   "id": "74f23f07",
   "metadata": {},
   "outputs": [
    {
     "name": "stdout",
     "output_type": "stream",
     "text": [
      "Nilai setelah standarisasi\n",
      "Standar Deviasi :  1.0\n"
     ]
    }
   ],
   "source": [
    "print(\"Nilai setelah standarisasi\")\n",
    "print(\"Standar Deviasi : \", np.std(Scaled_data))"
   ]
  },
  {
   "cell_type": "code",
   "execution_count": 41,
   "id": "798f6726",
   "metadata": {},
   "outputs": [],
   "source": [
    "from sklearn.preprocessing import MinMaxScaler"
   ]
  },
  {
   "cell_type": "code",
   "execution_count": 42,
   "id": "7ea59f15",
   "metadata": {},
   "outputs": [],
   "source": [
    "min_max_scaler = MinMaxScaler()"
   ]
  },
  {
   "cell_type": "code",
   "execution_count": 43,
   "id": "bad23a31",
   "metadata": {},
   "outputs": [],
   "source": [
    "x_scaler = min_max_scaler.fit_transform(df[['meantemp', 'humidity', 'wind_speed', 'meanpressure']])"
   ]
  },
  {
   "cell_type": "code",
   "execution_count": 47,
   "id": "2f8b33e3",
   "metadata": {},
   "outputs": [],
   "source": [
    "df2 = pd.DataFrame(x_scaler)"
   ]
  },
  {
   "cell_type": "code",
   "execution_count": 48,
   "id": "f19aeb26",
   "metadata": {},
   "outputs": [
    {
     "data": {
      "text/html": [
       "<div>\n",
       "<style scoped>\n",
       "    .dataframe tbody tr th:only-of-type {\n",
       "        vertical-align: middle;\n",
       "    }\n",
       "\n",
       "    .dataframe tbody tr th {\n",
       "        vertical-align: top;\n",
       "    }\n",
       "\n",
       "    .dataframe thead th {\n",
       "        text-align: right;\n",
       "    }\n",
       "</style>\n",
       "<table border=\"1\" class=\"dataframe\">\n",
       "  <thead>\n",
       "    <tr style=\"text-align: right;\">\n",
       "      <th></th>\n",
       "      <th>0</th>\n",
       "      <th>1</th>\n",
       "      <th>2</th>\n",
       "      <th>3</th>\n",
       "    </tr>\n",
       "  </thead>\n",
       "  <tbody>\n",
       "    <tr>\n",
       "      <th>0</th>\n",
       "      <td>0.209066</td>\n",
       "      <td>0.872396</td>\n",
       "      <td>0.075640</td>\n",
       "      <td>0.000000</td>\n",
       "    </tr>\n",
       "    <tr>\n",
       "      <th>1</th>\n",
       "      <td>0.319149</td>\n",
       "      <td>0.761651</td>\n",
       "      <td>0.084061</td>\n",
       "      <td>0.995298</td>\n",
       "    </tr>\n",
       "    <tr>\n",
       "      <th>2</th>\n",
       "      <td>0.260047</td>\n",
       "      <td>0.821416</td>\n",
       "      <td>0.146661</td>\n",
       "      <td>0.995356</td>\n",
       "    </tr>\n",
       "    <tr>\n",
       "      <th>3</th>\n",
       "      <td>0.327660</td>\n",
       "      <td>0.669797</td>\n",
       "      <td>0.176133</td>\n",
       "      <td>0.992624</td>\n",
       "    </tr>\n",
       "    <tr>\n",
       "      <th>4</th>\n",
       "      <td>0.314421</td>\n",
       "      <td>0.732480</td>\n",
       "      <td>0.106684</td>\n",
       "      <td>0.991206</td>\n",
       "    </tr>\n",
       "  </tbody>\n",
       "</table>\n",
       "</div>"
      ],
      "text/plain": [
       "          0         1         2         3\n",
       "0  0.209066  0.872396  0.075640  0.000000\n",
       "1  0.319149  0.761651  0.084061  0.995298\n",
       "2  0.260047  0.821416  0.146661  0.995356\n",
       "3  0.327660  0.669797  0.176133  0.992624\n",
       "4  0.314421  0.732480  0.106684  0.991206"
      ]
     },
     "execution_count": 48,
     "metadata": {},
     "output_type": "execute_result"
    }
   ],
   "source": [
    "df2.head(5)"
   ]
  },
  {
   "cell_type": "code",
   "execution_count": 49,
   "id": "251f9815",
   "metadata": {},
   "outputs": [],
   "source": [
    "import matplotlib.pyplot as plt"
   ]
  },
  {
   "cell_type": "code",
   "execution_count": 53,
   "id": "4b3a0d3a",
   "metadata": {},
   "outputs": [
    {
     "data": {
      "image/png": "[encoded data removed]",
      "text/plain": [
       "<Figure size 640x480 with 1 Axes>"
      ]
     },
     "metadata": {},
     "output_type": "display_data"
    }
   ],
   "source": [
    "plt.plot(df.date, df.meantemp)\n",
    "plt.show()"
   ]
  },
  {
   "cell_type": "code",
   "execution_count": 54,
   "id": "49412f5e",
   "metadata": {},
   "outputs": [
    {
     "data": {
      "image/png": "[encoded data removed]",
      "text/plain": [
       "<Figure size 640x480 with 1 Axes>"
      ]
     },
     "metadata": {},
     "output_type": "display_data"
    }
   ],
   "source": [
    "plt.plot(df.date, df2[0])\n",
    "plt.show()"
   ]
  },
  {
   "cell_type": "markdown",
   "id": "a1e6dd4b",
   "metadata": {},
   "source": [
    "### Data Cleaning"
   ]
  },
  {
   "cell_type": "code",
   "execution_count": 57,
   "id": "5853a389",
   "metadata": {},
   "outputs": [],
   "source": [
    "dataset_rusak = pd.read_csv('dataset/DailyDelhiClimateTestRusak.csv')"
   ]
  },
  {
   "cell_type": "code",
   "execution_count": null,
   "id": "34c7c584",
   "metadata": {},
   "outputs": [],
   "source": []
  },
  {
   "cell_type": "code",
   "execution_count": 58,
   "id": "a74ae396",
   "metadata": {},
   "outputs": [
    {
     "name": "stdout",
     "output_type": "stream",
     "text": [
      "<class 'pandas.core.frame.DataFrame'>\n",
      "RangeIndex: 114 entries, 0 to 113\n",
      "Data columns (total 5 columns):\n",
      " #   Column        Non-Null Count  Dtype  \n",
      "---  ------        --------------  -----  \n",
      " 0   date          114 non-null    object \n",
      " 1   meantemp      105 non-null    float64\n",
      " 2   humidity      98 non-null     float64\n",
      " 3   wind_speed    98 non-null     float64\n",
      " 4   meanpressure  107 non-null    float64\n",
      "dtypes: float64(4), object(1)\n",
      "memory usage: 4.6+ KB\n"
     ]
    }
   ],
   "source": [
    "dataset_rusak.info()"
   ]
  },
  {
   "cell_type": "code",
   "execution_count": 61,
   "id": "1670cdd6",
   "metadata": {},
   "outputs": [],
   "source": [
    "from sklearn.impute import SimpleImputer\n"
   ]
  },
  {
   "cell_type": "code",
   "execution_count": 72,
   "id": "804bee84",
   "metadata": {},
   "outputs": [],
   "source": [
    "imputer_mean = SimpleImputer(strategy='mean')\n",
    "imputer_median = SimpleImputer(strategy='median')\n",
    "imputer_most_frequent = SimpleImputer(strategy='most_frequent')\n",
    "imputer_constant = SimpleImputer(strategy='constant')"
   ]
  },
  {
   "cell_type": "code",
   "execution_count": 73,
   "id": "32553aa2",
   "metadata": {},
   "outputs": [],
   "source": [
    "dataset_rusak_cleaned = dataset_rusak.copy()"
   ]
  },
  {
   "cell_type": "code",
   "execution_count": 74,
   "id": "665548dd",
   "metadata": {},
   "outputs": [
    {
     "data": {
      "text/plain": [
       "Index(['date', 'meantemp', 'humidity', 'wind_speed', 'meanpressure'], dtype='object')"
      ]
     },
     "execution_count": 74,
     "metadata": {},
     "output_type": "execute_result"
    }
   ],
   "source": [
    "dataset_rusak_cleaned.columns"
   ]
  },
  {
   "cell_type": "code",
   "execution_count": 75,
   "id": "23cd8060",
   "metadata": {},
   "outputs": [],
   "source": [
    "dataset_rusak_cleaned['meantemp'] = imputer_mean.fit_transform(dataset_rusak[['meantemp']])\n",
    "dataset_rusak_cleaned['humidity'] = imputer_median.fit_transform(dataset_rusak[['humidity']])\n",
    "dataset_rusak_cleaned['wind_speed'] = imputer_most_frequent.fit_transform(dataset_rusak[['wind_speed']])\n",
    "dataset_rusak_cleaned['meanpressure'] = imputer_constant.fit_transform(dataset_rusak[['meanpressure']])"
   ]
  },
  {
   "cell_type": "code",
   "execution_count": 82,
   "id": "372ed3ea",
   "metadata": {},
   "outputs": [],
   "source": [
    "data_pembanding = pd.DataFrame(\n",
    "    {\n",
    "        \"meantemp_clean\":dataset_rusak_cleaned['meantemp'],\n",
    "        \"meantemp_original\":dataset_rusak['meantemp'],\n",
    "        \"humidity_clean\":dataset_rusak_cleaned['humidity'],\n",
    "        \"humidity_original\":dataset_rusak['humidity'],\n",
    "        \"wind_speed_clean\":dataset_rusak_cleaned['wind_speed'],\n",
    "        \"wind_speed_original\":dataset_rusak['wind_speed'],\n",
    "        \"meanpressure_clean\":dataset_rusak_cleaned['meanpressure'], ## tidak disarankan\n",
    "        \"meanpressure_original\":dataset_rusak['meanpressure'], ## tidak disarankan\n",
    "    }\n",
    ")"
   ]
  },
  {
   "cell_type": "code",
   "execution_count": 83,
   "id": "e7328dc5",
   "metadata": {},
   "outputs": [
    {
     "data": {
      "text/html": [
       "<div>\n",
       "<style scoped>\n",
       "    .dataframe tbody tr th:only-of-type {\n",
       "        vertical-align: middle;\n",
       "    }\n",
       "\n",
       "    .dataframe tbody tr th {\n",
       "        vertical-align: top;\n",
       "    }\n",
       "\n",
       "    .dataframe thead th {\n",
       "        text-align: right;\n",
       "    }\n",
       "</style>\n",
       "<table border=\"1\" class=\"dataframe\">\n",
       "  <thead>\n",
       "    <tr style=\"text-align: right;\">\n",
       "      <th></th>\n",
       "      <th>meantemp_clean</th>\n",
       "      <th>meantemp_original</th>\n",
       "      <th>humidity_clean</th>\n",
       "      <th>humidity_original</th>\n",
       "      <th>wind_speed_clean</th>\n",
       "      <th>wind_speed_original</th>\n",
       "      <th>meanpressure_clean</th>\n",
       "      <th>meanpressure_original</th>\n",
       "    </tr>\n",
       "  </thead>\n",
       "  <tbody>\n",
       "    <tr>\n",
       "      <th>84</th>\n",
       "      <td>29.100000</td>\n",
       "      <td>29.100000</td>\n",
       "      <td>37.100000</td>\n",
       "      <td>37.100000</td>\n",
       "      <td>17.590000</td>\n",
       "      <td>17.590000</td>\n",
       "      <td>1010.200000</td>\n",
       "      <td>1010.200000</td>\n",
       "    </tr>\n",
       "    <tr>\n",
       "      <th>85</th>\n",
       "      <td>29.500000</td>\n",
       "      <td>29.500000</td>\n",
       "      <td>38.625000</td>\n",
       "      <td>38.625000</td>\n",
       "      <td>13.650000</td>\n",
       "      <td>13.650000</td>\n",
       "      <td>1009.500000</td>\n",
       "      <td>1009.500000</td>\n",
       "    </tr>\n",
       "    <tr>\n",
       "      <th>86</th>\n",
       "      <td>29.888889</td>\n",
       "      <td>29.888889</td>\n",
       "      <td>40.666667</td>\n",
       "      <td>40.666667</td>\n",
       "      <td>8.844444</td>\n",
       "      <td>8.844444</td>\n",
       "      <td>1009.000000</td>\n",
       "      <td>1009.000000</td>\n",
       "    </tr>\n",
       "    <tr>\n",
       "      <th>87</th>\n",
       "      <td>31.000000</td>\n",
       "      <td>31.000000</td>\n",
       "      <td>34.500000</td>\n",
       "      <td>34.500000</td>\n",
       "      <td>13.200000</td>\n",
       "      <td>13.200000</td>\n",
       "      <td>1007.125000</td>\n",
       "      <td>1007.125000</td>\n",
       "    </tr>\n",
       "    <tr>\n",
       "      <th>88</th>\n",
       "      <td>29.285714</td>\n",
       "      <td>29.285714</td>\n",
       "      <td>36.857143</td>\n",
       "      <td>36.857143</td>\n",
       "      <td>10.585714</td>\n",
       "      <td>10.585714</td>\n",
       "      <td>1007.142857</td>\n",
       "      <td>1007.142857</td>\n",
       "    </tr>\n",
       "    <tr>\n",
       "      <th>89</th>\n",
       "      <td>30.625000</td>\n",
       "      <td>30.625000</td>\n",
       "      <td>37.625000</td>\n",
       "      <td>37.625000</td>\n",
       "      <td>6.950000</td>\n",
       "      <td>6.950000</td>\n",
       "      <td>1007.500000</td>\n",
       "      <td>1007.500000</td>\n",
       "    </tr>\n",
       "    <tr>\n",
       "      <th>90</th>\n",
       "      <td>31.375000</td>\n",
       "      <td>31.375000</td>\n",
       "      <td>35.125000</td>\n",
       "      <td>35.125000</td>\n",
       "      <td>9.037500</td>\n",
       "      <td>9.037500</td>\n",
       "      <td>1005.000000</td>\n",
       "      <td>1005.000000</td>\n",
       "    </tr>\n",
       "    <tr>\n",
       "      <th>91</th>\n",
       "      <td>21.001775</td>\n",
       "      <td>NaN</td>\n",
       "      <td>58.687500</td>\n",
       "      <td>NaN</td>\n",
       "      <td>1.387500</td>\n",
       "      <td>NaN</td>\n",
       "      <td>1004.250000</td>\n",
       "      <td>1004.250000</td>\n",
       "    </tr>\n",
       "    <tr>\n",
       "      <th>92</th>\n",
       "      <td>21.001775</td>\n",
       "      <td>NaN</td>\n",
       "      <td>58.687500</td>\n",
       "      <td>NaN</td>\n",
       "      <td>1.387500</td>\n",
       "      <td>NaN</td>\n",
       "      <td>1004.250000</td>\n",
       "      <td>1004.250000</td>\n",
       "    </tr>\n",
       "    <tr>\n",
       "      <th>93</th>\n",
       "      <td>21.001775</td>\n",
       "      <td>NaN</td>\n",
       "      <td>58.687500</td>\n",
       "      <td>NaN</td>\n",
       "      <td>1.387500</td>\n",
       "      <td>NaN</td>\n",
       "      <td>1007.200000</td>\n",
       "      <td>1007.200000</td>\n",
       "    </tr>\n",
       "    <tr>\n",
       "      <th>94</th>\n",
       "      <td>21.001775</td>\n",
       "      <td>NaN</td>\n",
       "      <td>58.687500</td>\n",
       "      <td>NaN</td>\n",
       "      <td>1.387500</td>\n",
       "      <td>NaN</td>\n",
       "      <td>1005.000000</td>\n",
       "      <td>1005.000000</td>\n",
       "    </tr>\n",
       "    <tr>\n",
       "      <th>95</th>\n",
       "      <td>21.001775</td>\n",
       "      <td>NaN</td>\n",
       "      <td>58.687500</td>\n",
       "      <td>NaN</td>\n",
       "      <td>1.387500</td>\n",
       "      <td>NaN</td>\n",
       "      <td>1002.888889</td>\n",
       "      <td>1002.888889</td>\n",
       "    </tr>\n",
       "    <tr>\n",
       "      <th>96</th>\n",
       "      <td>21.001775</td>\n",
       "      <td>NaN</td>\n",
       "      <td>58.687500</td>\n",
       "      <td>NaN</td>\n",
       "      <td>1.387500</td>\n",
       "      <td>NaN</td>\n",
       "      <td>1007.375000</td>\n",
       "      <td>1007.375000</td>\n",
       "    </tr>\n",
       "    <tr>\n",
       "      <th>97</th>\n",
       "      <td>21.001775</td>\n",
       "      <td>NaN</td>\n",
       "      <td>58.687500</td>\n",
       "      <td>NaN</td>\n",
       "      <td>1.387500</td>\n",
       "      <td>NaN</td>\n",
       "      <td>1010.375000</td>\n",
       "      <td>1010.375000</td>\n",
       "    </tr>\n",
       "    <tr>\n",
       "      <th>98</th>\n",
       "      <td>21.001775</td>\n",
       "      <td>NaN</td>\n",
       "      <td>58.687500</td>\n",
       "      <td>NaN</td>\n",
       "      <td>1.387500</td>\n",
       "      <td>NaN</td>\n",
       "      <td>1010.625000</td>\n",
       "      <td>1010.625000</td>\n",
       "    </tr>\n",
       "    <tr>\n",
       "      <th>99</th>\n",
       "      <td>21.001775</td>\n",
       "      <td>NaN</td>\n",
       "      <td>58.687500</td>\n",
       "      <td>NaN</td>\n",
       "      <td>1.387500</td>\n",
       "      <td>NaN</td>\n",
       "      <td>1008.571429</td>\n",
       "      <td>1008.571429</td>\n",
       "    </tr>\n",
       "    <tr>\n",
       "      <th>100</th>\n",
       "      <td>29.250000</td>\n",
       "      <td>29.250000</td>\n",
       "      <td>17.750000</td>\n",
       "      <td>17.750000</td>\n",
       "      <td>15.512500</td>\n",
       "      <td>15.512500</td>\n",
       "      <td>1006.250000</td>\n",
       "      <td>1006.250000</td>\n",
       "    </tr>\n",
       "    <tr>\n",
       "      <th>101</th>\n",
       "      <td>29.250000</td>\n",
       "      <td>29.250000</td>\n",
       "      <td>26.000000</td>\n",
       "      <td>26.000000</td>\n",
       "      <td>9.487500</td>\n",
       "      <td>9.487500</td>\n",
       "      <td>1005.875000</td>\n",
       "      <td>1005.875000</td>\n",
       "    </tr>\n",
       "    <tr>\n",
       "      <th>102</th>\n",
       "      <td>29.666667</td>\n",
       "      <td>29.666667</td>\n",
       "      <td>29.111111</td>\n",
       "      <td>29.111111</td>\n",
       "      <td>4.944444</td>\n",
       "      <td>4.944444</td>\n",
       "      <td>1006.777778</td>\n",
       "      <td>1006.777778</td>\n",
       "    </tr>\n",
       "    <tr>\n",
       "      <th>103</th>\n",
       "      <td>30.500000</td>\n",
       "      <td>30.500000</td>\n",
       "      <td>37.625000</td>\n",
       "      <td>37.625000</td>\n",
       "      <td>1.387500</td>\n",
       "      <td>1.387500</td>\n",
       "      <td>1004.625000</td>\n",
       "      <td>1004.625000</td>\n",
       "    </tr>\n",
       "    <tr>\n",
       "      <th>104</th>\n",
       "      <td>31.222222</td>\n",
       "      <td>31.222222</td>\n",
       "      <td>30.444444</td>\n",
       "      <td>30.444444</td>\n",
       "      <td>5.966667</td>\n",
       "      <td>5.966667</td>\n",
       "      <td>1002.444444</td>\n",
       "      <td>1002.444444</td>\n",
       "    </tr>\n",
       "    <tr>\n",
       "      <th>105</th>\n",
       "      <td>31.000000</td>\n",
       "      <td>31.000000</td>\n",
       "      <td>34.250000</td>\n",
       "      <td>34.250000</td>\n",
       "      <td>2.100000</td>\n",
       "      <td>2.100000</td>\n",
       "      <td>1003.250000</td>\n",
       "      <td>1003.250000</td>\n",
       "    </tr>\n",
       "    <tr>\n",
       "      <th>106</th>\n",
       "      <td>32.555556</td>\n",
       "      <td>32.555556</td>\n",
       "      <td>38.444444</td>\n",
       "      <td>38.444444</td>\n",
       "      <td>5.366667</td>\n",
       "      <td>5.366667</td>\n",
       "      <td>1004.444444</td>\n",
       "      <td>1004.444444</td>\n",
       "    </tr>\n",
       "    <tr>\n",
       "      <th>107</th>\n",
       "      <td>34.000000</td>\n",
       "      <td>34.000000</td>\n",
       "      <td>27.333333</td>\n",
       "      <td>27.333333</td>\n",
       "      <td>7.811111</td>\n",
       "      <td>7.811111</td>\n",
       "      <td>1003.111111</td>\n",
       "      <td>1003.111111</td>\n",
       "    </tr>\n",
       "    <tr>\n",
       "      <th>108</th>\n",
       "      <td>29.666667</td>\n",
       "      <td>29.666667</td>\n",
       "      <td>29.111111</td>\n",
       "      <td>29.111111</td>\n",
       "      <td>4.944444</td>\n",
       "      <td>4.944444</td>\n",
       "      <td>1006.777778</td>\n",
       "      <td>1006.777778</td>\n",
       "    </tr>\n",
       "    <tr>\n",
       "      <th>109</th>\n",
       "      <td>30.500000</td>\n",
       "      <td>30.500000</td>\n",
       "      <td>37.625000</td>\n",
       "      <td>37.625000</td>\n",
       "      <td>1.387500</td>\n",
       "      <td>1.387500</td>\n",
       "      <td>1004.625000</td>\n",
       "      <td>1004.625000</td>\n",
       "    </tr>\n",
       "    <tr>\n",
       "      <th>110</th>\n",
       "      <td>31.222222</td>\n",
       "      <td>31.222222</td>\n",
       "      <td>30.444444</td>\n",
       "      <td>30.444444</td>\n",
       "      <td>5.966667</td>\n",
       "      <td>5.966667</td>\n",
       "      <td>1002.444444</td>\n",
       "      <td>1002.444444</td>\n",
       "    </tr>\n",
       "    <tr>\n",
       "      <th>111</th>\n",
       "      <td>32.900000</td>\n",
       "      <td>32.900000</td>\n",
       "      <td>40.900000</td>\n",
       "      <td>40.900000</td>\n",
       "      <td>8.890000</td>\n",
       "      <td>8.890000</td>\n",
       "      <td>1001.600000</td>\n",
       "      <td>1001.600000</td>\n",
       "    </tr>\n",
       "    <tr>\n",
       "      <th>112</th>\n",
       "      <td>32.875000</td>\n",
       "      <td>32.875000</td>\n",
       "      <td>27.500000</td>\n",
       "      <td>27.500000</td>\n",
       "      <td>9.962500</td>\n",
       "      <td>9.962500</td>\n",
       "      <td>1002.125000</td>\n",
       "      <td>1002.125000</td>\n",
       "    </tr>\n",
       "    <tr>\n",
       "      <th>113</th>\n",
       "      <td>32.000000</td>\n",
       "      <td>32.000000</td>\n",
       "      <td>27.142857</td>\n",
       "      <td>27.142857</td>\n",
       "      <td>12.157143</td>\n",
       "      <td>12.157143</td>\n",
       "      <td>1004.142857</td>\n",
       "      <td>1004.142857</td>\n",
       "    </tr>\n",
       "  </tbody>\n",
       "</table>\n",
       "</div>"
      ],
      "text/plain": [
       "     meantemp_clean  meantemp_original  humidity_clean  humidity_original  \\\n",
       "84        29.100000          29.100000       37.100000          37.100000   \n",
       "85        29.500000          29.500000       38.625000          38.625000   \n",
       "86        29.888889          29.888889       40.666667          40.666667   \n",
       "87        31.000000          31.000000       34.500000          34.500000   \n",
       "88        29.285714          29.285714       36.857143          36.857143   \n",
       "89        30.625000          30.625000       37.625000          37.625000   \n",
       "90        31.375000          31.375000       35.125000          35.125000   \n",
       "91        21.001775                NaN       58.687500                NaN   \n",
       "92        21.001775                NaN       58.687500                NaN   \n",
       "93        21.001775                NaN       58.687500                NaN   \n",
       "94        21.001775                NaN       58.687500                NaN   \n",
       "95        21.001775                NaN       58.687500                NaN   \n",
       "96        21.001775                NaN       58.687500                NaN   \n",
       "97        21.001775                NaN       58.687500                NaN   \n",
       "98        21.001775                NaN       58.687500                NaN   \n",
       "99        21.001775                NaN       58.687500                NaN   \n",
       "100       29.250000          29.250000       17.750000          17.750000   \n",
       "101       29.250000          29.250000       26.000000          26.000000   \n",
       "102       29.666667          29.666667       29.111111          29.111111   \n",
       "103       30.500000          30.500000       37.625000          37.625000   \n",
       "104       31.222222          31.222222       30.444444          30.444444   \n",
       "105       31.000000          31.000000       34.250000          34.250000   \n",
       "106       32.555556          32.555556       38.444444          38.444444   \n",
       "107       34.000000          34.000000       27.333333          27.333333   \n",
       "108       29.666667          29.666667       29.111111          29.111111   \n",
       "109       30.500000          30.500000       37.625000          37.625000   \n",
       "110       31.222222          31.222222       30.444444          30.444444   \n",
       "111       32.900000          32.900000       40.900000          40.900000   \n",
       "112       32.875000          32.875000       27.500000          27.500000   \n",
       "113       32.000000          32.000000       27.142857          27.142857   \n",
       "\n",
       "     wind_speed_clean  wind_speed_original  meanpressure_clean  \\\n",
       "84          17.590000            17.590000         1010.200000   \n",
       "85          13.650000            13.650000         1009.500000   \n",
       "86           8.844444             8.844444         1009.000000   \n",
       "87          13.200000            13.200000         1007.125000   \n",
       "88          10.585714            10.585714         1007.142857   \n",
       "89           6.950000             6.950000         1007.500000   \n",
       "90           9.037500             9.037500         1005.000000   \n",
       "91           1.387500                  NaN         1004.250000   \n",
       "92           1.387500                  NaN         1004.250000   \n",
       "93           1.387500                  NaN         1007.200000   \n",
       "94           1.387500                  NaN         1005.000000   \n",
       "95           1.387500                  NaN         1002.888889   \n",
       "96           1.387500                  NaN         1007.375000   \n",
       "97           1.387500                  NaN         1010.375000   \n",
       "98           1.387500                  NaN         1010.625000   \n",
       "99           1.387500                  NaN         1008.571429   \n",
       "100         15.512500            15.512500         1006.250000   \n",
       "101          9.487500             9.487500         1005.875000   \n",
       "102          4.944444             4.944444         1006.777778   \n",
       "103          1.387500             1.387500         1004.625000   \n",
       "104          5.966667             5.966667         1002.444444   \n",
       "105          2.100000             2.100000         1003.250000   \n",
       "106          5.366667             5.366667         1004.444444   \n",
       "107          7.811111             7.811111         1003.111111   \n",
       "108          4.944444             4.944444         1006.777778   \n",
       "109          1.387500             1.387500         1004.625000   \n",
       "110          5.966667             5.966667         1002.444444   \n",
       "111          8.890000             8.890000         1001.600000   \n",
       "112          9.962500             9.962500         1002.125000   \n",
       "113         12.157143            12.157143         1004.142857   \n",
       "\n",
       "     meanpressure_original  \n",
       "84             1010.200000  \n",
       "85             1009.500000  \n",
       "86             1009.000000  \n",
       "87             1007.125000  \n",
       "88             1007.142857  \n",
       "89             1007.500000  \n",
       "90             1005.000000  \n",
       "91             1004.250000  \n",
       "92             1004.250000  \n",
       "93             1007.200000  \n",
       "94             1005.000000  \n",
       "95             1002.888889  \n",
       "96             1007.375000  \n",
       "97             1010.375000  \n",
       "98             1010.625000  \n",
       "99             1008.571429  \n",
       "100            1006.250000  \n",
       "101            1005.875000  \n",
       "102            1006.777778  \n",
       "103            1004.625000  \n",
       "104            1002.444444  \n",
       "105            1003.250000  \n",
       "106            1004.444444  \n",
       "107            1003.111111  \n",
       "108            1006.777778  \n",
       "109            1004.625000  \n",
       "110            1002.444444  \n",
       "111            1001.600000  \n",
       "112            1002.125000  \n",
       "113            1004.142857  "
      ]
     },
     "execution_count": 83,
     "metadata": {},
     "output_type": "execute_result"
    }
   ],
   "source": [
    "data_pembanding.tail(30)"
   ]
  },
  {
   "cell_type": "code",
   "execution_count": 85,
   "id": "d34a835d",
   "metadata": {},
   "outputs": [
    {
     "name": "stdout",
     "output_type": "stream",
     "text": [
      "<class 'pandas.core.frame.DataFrame'>\n",
      "RangeIndex: 114 entries, 0 to 113\n",
      "Data columns (total 5 columns):\n",
      " #   Column        Non-Null Count  Dtype  \n",
      "---  ------        --------------  -----  \n",
      " 0   date          114 non-null    object \n",
      " 1   meantemp      114 non-null    float64\n",
      " 2   humidity      114 non-null    float64\n",
      " 3   wind_speed    114 non-null    float64\n",
      " 4   meanpressure  114 non-null    float64\n",
      "dtypes: float64(4), object(1)\n",
      "memory usage: 4.6+ KB\n"
     ]
    }
   ],
   "source": [
    "dataset_rusak_cleaned.info()"
   ]
  },
  {
   "cell_type": "code",
   "execution_count": 86,
   "id": "0a355d3c",
   "metadata": {},
   "outputs": [
    {
     "data": {
      "text/plain": [
       "0      15.913043\n",
       "1      18.500000\n",
       "2      17.111111\n",
       "3      18.700001\n",
       "4      18.388889\n",
       "         ...    \n",
       "109    30.500000\n",
       "110    31.222221\n",
       "111    32.900002\n",
       "112    32.875000\n",
       "113    32.000000\n",
       "Name: meantemp, Length: 114, dtype: float32"
      ]
     },
     "execution_count": 86,
     "metadata": {},
     "output_type": "execute_result"
    }
   ],
   "source": [
    "dataset_rusak_cleaned['meantemp'].astype('float32') # tidak merubah data"
   ]
  },
  {
   "cell_type": "code",
   "execution_count": 89,
   "id": "2f4b5faa",
   "metadata": {},
   "outputs": [],
   "source": [
    "dataset_rusak_cleaned['meantemp'] = dataset_rusak_cleaned['meantemp'].astype('int64') # merubah data"
   ]
  },
  {
   "cell_type": "code",
   "execution_count": 90,
   "id": "229caeab",
   "metadata": {},
   "outputs": [
    {
     "data": {
      "text/plain": [
       "dtype('int64')"
      ]
     },
     "execution_count": 90,
     "metadata": {},
     "output_type": "execute_result"
    }
   ],
   "source": [
    "dataset_rusak_cleaned['meantemp'].dtype"
   ]
  },
  {
   "cell_type": "code",
   "execution_count": 91,
   "id": "a77a1c46",
   "metadata": {},
   "outputs": [
    {
     "data": {
      "text/plain": [
       "date             0\n",
       "meantemp         9\n",
       "humidity        16\n",
       "wind_speed      16\n",
       "meanpressure     7\n",
       "dtype: int64"
      ]
     },
     "execution_count": 91,
     "metadata": {},
     "output_type": "execute_result"
    }
   ],
   "source": [
    "dataset_rusak.isna().sum()"
   ]
  },
  {
   "cell_type": "code",
   "execution_count": 93,
   "id": "d356a4b7",
   "metadata": {},
   "outputs": [],
   "source": [
    "dataset_rusak_cleaned1 = dataset_rusak.copy()"
   ]
  },
  {
   "cell_type": "code",
   "execution_count": 94,
   "id": "2002d342",
   "metadata": {},
   "outputs": [
    {
     "data": {
      "text/plain": [
       "date             0\n",
       "meantemp         9\n",
       "humidity        16\n",
       "wind_speed      16\n",
       "meanpressure     7\n",
       "dtype: int64"
      ]
     },
     "execution_count": 94,
     "metadata": {},
     "output_type": "execute_result"
    }
   ],
   "source": [
    "dataset_rusak_cleaned1.isna().sum()"
   ]
  },
  {
   "cell_type": "code",
   "execution_count": 97,
   "id": "daf5e11b",
   "metadata": {},
   "outputs": [],
   "source": [
    "dataset_rusak_cleaned1['meantemp'].fillna(dataset_rusak_cleaned1['meantemp'].mean(), inplace=True) ## sama dengan = ## mean bisa dirubah menjadi nilai yang diinginkan modus,median dll"
   ]
  },
  {
   "cell_type": "code",
   "execution_count": 98,
   "id": "78ac177b",
   "metadata": {},
   "outputs": [
    {
     "data": {
      "text/plain": [
       "date             0\n",
       "meantemp         0\n",
       "humidity        16\n",
       "wind_speed      16\n",
       "meanpressure     7\n",
       "dtype: int64"
      ]
     },
     "execution_count": 98,
     "metadata": {},
     "output_type": "execute_result"
    }
   ],
   "source": [
    "dataset_rusak_cleaned1.isna().sum()"
   ]
  },
  {
   "cell_type": "code",
   "execution_count": 103,
   "id": "41a9371b",
   "metadata": {},
   "outputs": [
    {
     "data": {
      "text/plain": [
       "20"
      ]
     },
     "execution_count": 103,
     "metadata": {},
     "output_type": "execute_result"
    }
   ],
   "source": [
    "dataset_rusak_cleaned1['humidity'].duplicated().sum()"
   ]
  },
  {
   "cell_type": "code",
   "execution_count": 106,
   "id": "2bb4aa77",
   "metadata": {},
   "outputs": [],
   "source": [
    "dataset_rusak_cleaned1.drop_duplicates(inplace=True)"
   ]
  },
  {
   "cell_type": "code",
   "execution_count": 107,
   "id": "91c6055e",
   "metadata": {},
   "outputs": [
    {
     "data": {
      "text/plain": [
       "0"
      ]
     },
     "execution_count": 107,
     "metadata": {},
     "output_type": "execute_result"
    }
   ],
   "source": [
    "dataset_rusak_cleaned1.duplicated().sum()"
   ]
  },
  {
   "cell_type": "code",
   "execution_count": 116,
   "id": "a08a1345",
   "metadata": {},
   "outputs": [],
   "source": [
    "nama = ['nama1', 'nama1','nama3', 'nama4']\n",
    "umur = ['umur1', 'umur1', 'umur3', 'nama4']\n",
    "kelas = ['1','1','3', '3']\n",
    "test_df = pd.DataFrame(\n",
    "    {\n",
    "        'Nama' :nama,\n",
    "        'Umur' :umur,\n",
    "        'Kelas' :kelas\n",
    "    }\n",
    ")"
   ]
  },
  {
   "cell_type": "code",
   "execution_count": 117,
   "id": "ffd2c6c5",
   "metadata": {},
   "outputs": [
    {
     "data": {
      "text/html": [
       "<div>\n",
       "<style scoped>\n",
       "    .dataframe tbody tr th:only-of-type {\n",
       "        vertical-align: middle;\n",
       "    }\n",
       "\n",
       "    .dataframe tbody tr th {\n",
       "        vertical-align: top;\n",
       "    }\n",
       "\n",
       "    .dataframe thead th {\n",
       "        text-align: right;\n",
       "    }\n",
       "</style>\n",
       "<table border=\"1\" class=\"dataframe\">\n",
       "  <thead>\n",
       "    <tr style=\"text-align: right;\">\n",
       "      <th></th>\n",
       "      <th>Nama</th>\n",
       "      <th>Umur</th>\n",
       "      <th>Kelas</th>\n",
       "    </tr>\n",
       "  </thead>\n",
       "  <tbody>\n",
       "    <tr>\n",
       "      <th>0</th>\n",
       "      <td>nama1</td>\n",
       "      <td>umur1</td>\n",
       "      <td>1</td>\n",
       "    </tr>\n",
       "    <tr>\n",
       "      <th>1</th>\n",
       "      <td>nama1</td>\n",
       "      <td>umur1</td>\n",
       "      <td>1</td>\n",
       "    </tr>\n",
       "    <tr>\n",
       "      <th>2</th>\n",
       "      <td>nama3</td>\n",
       "      <td>umur3</td>\n",
       "      <td>3</td>\n",
       "    </tr>\n",
       "    <tr>\n",
       "      <th>3</th>\n",
       "      <td>nama4</td>\n",
       "      <td>nama4</td>\n",
       "      <td>3</td>\n",
       "    </tr>\n",
       "  </tbody>\n",
       "</table>\n",
       "</div>"
      ],
      "text/plain": [
       "    Nama   Umur Kelas\n",
       "0  nama1  umur1     1\n",
       "1  nama1  umur1     1\n",
       "2  nama3  umur3     3\n",
       "3  nama4  nama4     3"
      ]
     },
     "execution_count": 117,
     "metadata": {},
     "output_type": "execute_result"
    }
   ],
   "source": [
    "test_df.head(5)"
   ]
  },
  {
   "cell_type": "code",
   "execution_count": 118,
   "id": "26008821",
   "metadata": {},
   "outputs": [
    {
     "data": {
      "text/html": [
       "<div>\n",
       "<style scoped>\n",
       "    .dataframe tbody tr th:only-of-type {\n",
       "        vertical-align: middle;\n",
       "    }\n",
       "\n",
       "    .dataframe tbody tr th {\n",
       "        vertical-align: top;\n",
       "    }\n",
       "\n",
       "    .dataframe thead th {\n",
       "        text-align: right;\n",
       "    }\n",
       "</style>\n",
       "<table border=\"1\" class=\"dataframe\">\n",
       "  <thead>\n",
       "    <tr style=\"text-align: right;\">\n",
       "      <th></th>\n",
       "      <th>Nama</th>\n",
       "      <th>Umur</th>\n",
       "      <th>Kelas</th>\n",
       "    </tr>\n",
       "  </thead>\n",
       "  <tbody>\n",
       "    <tr>\n",
       "      <th>0</th>\n",
       "      <td>nama1</td>\n",
       "      <td>umur1</td>\n",
       "      <td>1</td>\n",
       "    </tr>\n",
       "    <tr>\n",
       "      <th>2</th>\n",
       "      <td>nama3</td>\n",
       "      <td>umur3</td>\n",
       "      <td>3</td>\n",
       "    </tr>\n",
       "    <tr>\n",
       "      <th>3</th>\n",
       "      <td>nama4</td>\n",
       "      <td>nama4</td>\n",
       "      <td>3</td>\n",
       "    </tr>\n",
       "  </tbody>\n",
       "</table>\n",
       "</div>"
      ],
      "text/plain": [
       "    Nama   Umur Kelas\n",
       "0  nama1  umur1     1\n",
       "2  nama3  umur3     3\n",
       "3  nama4  nama4     3"
      ]
     },
     "execution_count": 118,
     "metadata": {},
     "output_type": "execute_result"
    }
   ],
   "source": [
    "test_df.drop_duplicates(inplace=True)\n",
    "test_df.head(5)"
   ]
  },
  {
   "cell_type": "code",
   "execution_count": 124,
   "id": "d0976752",
   "metadata": {},
   "outputs": [
    {
     "data": {
      "text/html": [
       "<div>\n",
       "<style scoped>\n",
       "    .dataframe tbody tr th:only-of-type {\n",
       "        vertical-align: middle;\n",
       "    }\n",
       "\n",
       "    .dataframe tbody tr th {\n",
       "        vertical-align: top;\n",
       "    }\n",
       "\n",
       "    .dataframe thead th {\n",
       "        text-align: right;\n",
       "    }\n",
       "</style>\n",
       "<table border=\"1\" class=\"dataframe\">\n",
       "  <thead>\n",
       "    <tr style=\"text-align: right;\">\n",
       "      <th></th>\n",
       "      <th>Nama</th>\n",
       "      <th>Jurusan</th>\n",
       "    </tr>\n",
       "  </thead>\n",
       "  <tbody>\n",
       "    <tr>\n",
       "      <th>0</th>\n",
       "      <td>jupti</td>\n",
       "      <td>IF</td>\n",
       "    </tr>\n",
       "    <tr>\n",
       "      <th>1</th>\n",
       "      <td>Erika</td>\n",
       "      <td>sipil</td>\n",
       "    </tr>\n",
       "    <tr>\n",
       "      <th>2</th>\n",
       "      <td>Sutiyo</td>\n",
       "      <td>IF</td>\n",
       "    </tr>\n",
       "    <tr>\n",
       "      <th>3</th>\n",
       "      <td>Lanas</td>\n",
       "      <td>TF</td>\n",
       "    </tr>\n",
       "    <tr>\n",
       "      <th>4</th>\n",
       "      <td>Majo</td>\n",
       "      <td>KO</td>\n",
       "    </tr>\n",
       "    <tr>\n",
       "      <th>5</th>\n",
       "      <td>lili</td>\n",
       "      <td>LP</td>\n",
       "    </tr>\n",
       "    <tr>\n",
       "      <th>6</th>\n",
       "      <td>teo</td>\n",
       "      <td>LP</td>\n",
       "    </tr>\n",
       "    <tr>\n",
       "      <th>7</th>\n",
       "      <td>maras</td>\n",
       "      <td>IF</td>\n",
       "    </tr>\n",
       "  </tbody>\n",
       "</table>\n",
       "</div>"
      ],
      "text/plain": [
       "     Nama Jurusan\n",
       "0   jupti      IF\n",
       "1   Erika   sipil\n",
       "2  Sutiyo      IF\n",
       "3   Lanas      TF\n",
       "4    Majo      KO\n",
       "5    lili      LP\n",
       "6     teo      LP\n",
       "7   maras      IF"
      ]
     },
     "execution_count": 124,
     "metadata": {},
     "output_type": "execute_result"
    }
   ],
   "source": [
    "Nama = ['jupti', 'Erika', 'Sutiyo', 'Lanas', 'Majo', 'lili', 'teo', 'maras']\n",
    "Jurusan = ['IF', 'sipil', 'IF', 'TF', 'KO', 'LP', 'LP', 'IF']\n",
    "\n",
    "data_encoding = pd.DataFrame({\n",
    "\"Nama\":Nama,\n",
    "\"Jurusan\" : Jurusan,}\n",
    ")\n",
    "\n",
    "data_encoding.head(10)"
   ]
  },
  {
   "cell_type": "code",
   "execution_count": 125,
   "id": "f9535e94",
   "metadata": {},
   "outputs": [
    {
     "ename": "NameError",
     "evalue": "name 'ordinal_encoder' is not defined",
     "output_type": "error",
     "traceback": [
      "\u001b[1;31m---------------------------------------------------------------------------\u001b[0m",
      "\u001b[1;31mNameError\u001b[0m                                 Traceback (most recent call last)",
      "Cell \u001b[1;32mIn [125], line 3\u001b[0m\n\u001b[0;32m      1\u001b[0m data_encoding_ordinal \u001b[38;5;241m=\u001b[39m data_encoding\u001b[38;5;241m.\u001b[39mcopy()\n\u001b[0;32m      2\u001b[0m data_encoding_onehot \u001b[38;5;241m=\u001b[39m data_encoding\u001b[38;5;241m.\u001b[39mcopy()\n\u001b[1;32m----> 3\u001b[0m data_encoding[\u001b[38;5;124m'\u001b[39m\u001b[38;5;124mJurusan\u001b[39m\u001b[38;5;124m'\u001b[39m] \u001b[38;5;241m=\u001b[39m ordinal_encoder\u001b[38;5;241m.\u001b[39mfit_transform(data_encoding[[\u001b[38;5;124m'\u001b[39m\u001b[38;5;124mJurusan\u001b[39m\u001b[38;5;124m'\u001b[39m]])\n\u001b[0;32m      4\u001b[0m data_encoding[\u001b[38;5;124m'\u001b[39m\u001b[38;5;124mJurusan\u001b[39m\u001b[38;5;124m'\u001b[39m] \u001b[38;5;241m=\u001b[39m one_hot_encoder\u001b[38;5;241m.\u001b[39mfit_transform(data_encoding[[\u001b[38;5;124m'\u001b[39m\u001b[38;5;124mJurusan\u001b[39m\u001b[38;5;124m'\u001b[39m]])\n",
      "\u001b[1;31mNameError\u001b[0m: name 'ordinal_encoder' is not defined"
     ]
    }
   ],
   "source": [
    "data_encoding_ordinal = data_encoding.copy()\n",
    "data_encoding_onehot = data_encoding.copy()\n",
    "data_encoding_ordinal['Jurusan'] = ordinal_encoder.fit_transform(data_encoding[['Jurusan']])\n",
    "data_encoding['Jurusan'] = one_hot_encoder.fit_transform(data_encoding[['Jurusan']])"
   ]
  },
  {
   "cell_type": "code",
   "execution_count": null,
   "id": "698f5833",
   "metadata": {},
   "outputs": [],
   "source": []
  }
 ],
 "metadata": {
  "kernelspec": {
   "display_name": "Python 3 (ipykernel)",
   "language": "python",
   "name": "python3"
  },
  "language_info": {
   "codemirror_mode": {
    "name": "ipython",
    "version": 3
   },
   "file_extension": ".py",
   "mimetype": "text/x-python",
   "name": "python",
   "nbconvert_exporter": "python",
   "pygments_lexer": "ipython3",
   "version": "3.10.7"
  }
 },
 "nbformat": 4,
 "nbformat_minor": 5
}
