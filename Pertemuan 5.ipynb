{
 "cells": [
  {
   "cell_type": "markdown",
   "id": "e78196a9",
   "metadata": {},
   "source": [
    "## Pertemuan 5 / Supervised Learning\n",
    "\n",
    "<a href=\"https://raw.githubusercontent.com/mwaskom/seaborn-data/master/iris.csv\"> **website untuk dataset iris**"
   ]
  },
  {
   "cell_type": "code",
   "execution_count": 52,
   "id": "0a5ce42e",
   "metadata": {},
   "outputs": [
    {
     "ename": "ModuleNotFoundError",
     "evalue": "No module named 'tensorflow'",
     "output_type": "error",
     "traceback": [
      "\u001b[1;31m---------------------------------------------------------------------------\u001b[0m",
      "\u001b[1;31mModuleNotFoundError\u001b[0m                       Traceback (most recent call last)",
      "Cell \u001b[1;32mIn [52], line 10\u001b[0m\n\u001b[0;32m      8\u001b[0m \u001b[38;5;66;03m# from sklearn.metrics import mean_squared_error, r2_score\u001b[39;00m\n\u001b[0;32m      9\u001b[0m \u001b[38;5;28;01mfrom\u001b[39;00m \u001b[38;5;21;01msklearn\u001b[39;00m\u001b[38;5;21;01m.\u001b[39;00m\u001b[38;5;21;01mmetrics\u001b[39;00m \u001b[38;5;28;01mimport\u001b[39;00m confusion_matrix\n\u001b[1;32m---> 10\u001b[0m \u001b[38;5;28;01mfrom\u001b[39;00m \u001b[38;5;21;01mtensorflow\u001b[39;00m\u001b[38;5;21;01m.\u001b[39;00m\u001b[38;5;21;01mkeras\u001b[39;00m\u001b[38;5;21;01m.\u001b[39;00m\u001b[38;5;21;01mdataset\u001b[39;00m \u001b[38;5;28;01mimport\u001b[39;00m mnist \u001b[38;5;66;03m## jangan lupa 'pip install tensorflow' di cmd\u001b[39;00m\n\u001b[0;32m     11\u001b[0m \u001b[38;5;28;01mimport\u001b[39;00m \u001b[38;5;21;01mmatplotlib\u001b[39;00m\u001b[38;5;21;01m.\u001b[39;00m\u001b[38;5;21;01mpyplot\u001b[39;00m \u001b[38;5;28;01mas\u001b[39;00m \u001b[38;5;21;01mplt\u001b[39;00m\n\u001b[0;32m     12\u001b[0m \u001b[38;5;28;01mfrom\u001b[39;00m \u001b[38;5;21;01mprettytable\u001b[39;00m \u001b[38;5;28;01mimport\u001b[39;00m PrettyTable\n",
      "\u001b[1;31mModuleNotFoundError\u001b[0m: No module named 'tensorflow'"
     ]
    }
   ],
   "source": [
    "import pandas as pd\n",
    "import numpy as np\n",
    "from sklearn.model_selection import train_test_split\n",
    "from sklearn.neighbors import KNeighborsClassifier\n",
    "# from sklearn.metrics import accuracy_score #buat knn\n",
    "from sklearn.naive_bayes import GaussianNB\n",
    "from sklearn import datasets, linear_model ## mengambil dataset dari sklearn\n",
    "# from sklearn.metrics import mean_squared_error, r2_score ## buat linear regresion\n",
    "from sklearn.metrics import confusion_matrix\n",
    "from tensorflow.keras.dataset import mnist ## jangan lupa 'pip install tensorflow' di cmd\n",
    "import matplotlib.pyplot as plt\n",
    "from prettytable import PrettyTable"
   ]
  },
  {
   "cell_type": "code",
   "execution_count": 40,
   "id": "51eec1e1",
   "metadata": {},
   "outputs": [],
   "source": [
    "\n",
    "dataset = pd.read_csv('https://raw.githubusercontent.com/mwaskom/seaborn-data/master/iris.csv')"
   ]
  },
  {
   "cell_type": "code",
   "execution_count": 41,
   "id": "3befe782",
   "metadata": {},
   "outputs": [
    {
     "data": {
      "text/html": [
       "<div>\n",
       "<style scoped>\n",
       "    .dataframe tbody tr th:only-of-type {\n",
       "        vertical-align: middle;\n",
       "    }\n",
       "\n",
       "    .dataframe tbody tr th {\n",
       "        vertical-align: top;\n",
       "    }\n",
       "\n",
       "    .dataframe thead th {\n",
       "        text-align: right;\n",
       "    }\n",
       "</style>\n",
       "<table border=\"1\" class=\"dataframe\">\n",
       "  <thead>\n",
       "    <tr style=\"text-align: right;\">\n",
       "      <th></th>\n",
       "      <th>sepal_length</th>\n",
       "      <th>sepal_width</th>\n",
       "      <th>petal_length</th>\n",
       "      <th>petal_width</th>\n",
       "      <th>species</th>\n",
       "    </tr>\n",
       "  </thead>\n",
       "  <tbody>\n",
       "    <tr>\n",
       "      <th>0</th>\n",
       "      <td>5.1</td>\n",
       "      <td>3.5</td>\n",
       "      <td>1.4</td>\n",
       "      <td>0.2</td>\n",
       "      <td>setosa</td>\n",
       "    </tr>\n",
       "    <tr>\n",
       "      <th>1</th>\n",
       "      <td>4.9</td>\n",
       "      <td>3.0</td>\n",
       "      <td>1.4</td>\n",
       "      <td>0.2</td>\n",
       "      <td>setosa</td>\n",
       "    </tr>\n",
       "    <tr>\n",
       "      <th>2</th>\n",
       "      <td>4.7</td>\n",
       "      <td>3.2</td>\n",
       "      <td>1.3</td>\n",
       "      <td>0.2</td>\n",
       "      <td>setosa</td>\n",
       "    </tr>\n",
       "    <tr>\n",
       "      <th>3</th>\n",
       "      <td>4.6</td>\n",
       "      <td>3.1</td>\n",
       "      <td>1.5</td>\n",
       "      <td>0.2</td>\n",
       "      <td>setosa</td>\n",
       "    </tr>\n",
       "    <tr>\n",
       "      <th>4</th>\n",
       "      <td>5.0</td>\n",
       "      <td>3.6</td>\n",
       "      <td>1.4</td>\n",
       "      <td>0.2</td>\n",
       "      <td>setosa</td>\n",
       "    </tr>\n",
       "    <tr>\n",
       "      <th>5</th>\n",
       "      <td>5.4</td>\n",
       "      <td>3.9</td>\n",
       "      <td>1.7</td>\n",
       "      <td>0.4</td>\n",
       "      <td>setosa</td>\n",
       "    </tr>\n",
       "    <tr>\n",
       "      <th>6</th>\n",
       "      <td>4.6</td>\n",
       "      <td>3.4</td>\n",
       "      <td>1.4</td>\n",
       "      <td>0.3</td>\n",
       "      <td>setosa</td>\n",
       "    </tr>\n",
       "    <tr>\n",
       "      <th>7</th>\n",
       "      <td>5.0</td>\n",
       "      <td>3.4</td>\n",
       "      <td>1.5</td>\n",
       "      <td>0.2</td>\n",
       "      <td>setosa</td>\n",
       "    </tr>\n",
       "    <tr>\n",
       "      <th>8</th>\n",
       "      <td>4.4</td>\n",
       "      <td>2.9</td>\n",
       "      <td>1.4</td>\n",
       "      <td>0.2</td>\n",
       "      <td>setosa</td>\n",
       "    </tr>\n",
       "    <tr>\n",
       "      <th>9</th>\n",
       "      <td>4.9</td>\n",
       "      <td>3.1</td>\n",
       "      <td>1.5</td>\n",
       "      <td>0.1</td>\n",
       "      <td>setosa</td>\n",
       "    </tr>\n",
       "  </tbody>\n",
       "</table>\n",
       "</div>"
      ],
      "text/plain": [
       "   sepal_length  sepal_width  petal_length  petal_width species\n",
       "0           5.1          3.5           1.4          0.2  setosa\n",
       "1           4.9          3.0           1.4          0.2  setosa\n",
       "2           4.7          3.2           1.3          0.2  setosa\n",
       "3           4.6          3.1           1.5          0.2  setosa\n",
       "4           5.0          3.6           1.4          0.2  setosa\n",
       "5           5.4          3.9           1.7          0.4  setosa\n",
       "6           4.6          3.4           1.4          0.3  setosa\n",
       "7           5.0          3.4           1.5          0.2  setosa\n",
       "8           4.4          2.9           1.4          0.2  setosa\n",
       "9           4.9          3.1           1.5          0.1  setosa"
      ]
     },
     "execution_count": 41,
     "metadata": {},
     "output_type": "execute_result"
    }
   ],
   "source": [
    "dataset.head(10)"
   ]
  },
  {
   "cell_type": "markdown",
   "id": "a68f0b51",
   "metadata": {},
   "source": [
    "### K - NEAREST NEIGHBOR"
   ]
  },
  {
   "cell_type": "code",
   "execution_count": 33,
   "id": "a1945d3e",
   "metadata": {},
   "outputs": [
    {
     "name": "stdout",
     "output_type": "stream",
     "text": [
      "Hasil prediksi : ['virginica']\n",
      "class  : 149    virginica\n",
      "Name: species, dtype: object\n",
      "akurasi: 1.0\n"
     ]
    }
   ],
   "source": [
    "# X = dataset[['sepal_length', 'sepal_width', 'petal_length', 'petal_width']] ##data/kolom\n",
    "# Y = dataset['species'] #label  atau hasil\n",
    "# # X_train, X_test, y_train, y_test = train_test_split(X, Y, random_state=0, train_size=.2)\n",
    "# X_train, X_test, y_train, y_test = train_test_split(X, Y, test_size=1, shuffle=False, stratify=None)\n",
    "# classifier = KNeighborsClassifier(n_neighbors=5) # jumlah tetangga yangdiambil 5\n",
    "# classifier.fit(X_train, y_train) # latih data agar mendapatkan \n",
    "# predicted_value = classifier.predict(X_test)\n",
    "# accuracy = accuracy_score(y_test, predicted_value)\n",
    "\n",
    "\n",
    "# print(f'Hasil prediksi : {predicted_value}',\n",
    "#       f'class  : {y_test}',\n",
    "#       f'akurasi: {accuracy}',\n",
    "#       sep ='\\n' \n",
    "# )\n"
   ]
  },
  {
   "cell_type": "markdown",
   "id": "1819d5ed",
   "metadata": {},
   "source": [
    "### NAIVE BAYES"
   ]
  },
  {
   "cell_type": "code",
   "execution_count": 38,
   "id": "70c2625e",
   "metadata": {},
   "outputs": [
    {
     "name": "stdout",
     "output_type": "stream",
     "text": [
      "Hasil prediksi : ['virginica']\n",
      "class  : 149    virginica\n",
      "Name: species, dtype: object\n",
      "akurasi: 1.0\n"
     ]
    }
   ],
   "source": [
    "# X = dataset[['sepal_length', 'sepal_width', 'petal_length', 'petal_width']] ##data/kolom\n",
    "# Y = dataset['species'] #label  atau hasil\n",
    "# # X_train, X_test, y_train, y_test = train_test_split(X, Y, random_state=0, train_size=.2)\n",
    "# X_train, X_test, y_train, y_test = train_test_split(X, Y, test_size=1, shuffle=False, stratify=None)\n",
    "# classifier = GaussianNB() ## beda disini sama KNN\n",
    "# classifier.fit(X_train, y_train) # latih data agar mendapatkan \n",
    "# predicted_value = classifier.predict(X_test)\n",
    "# accuracy = accuracy_score(y_test, predicted_value)\n",
    "\n",
    "\n",
    "# print(f'Hasil prediksi : {predicted_value}',\n",
    "#       f'class  : {y_test}',\n",
    "#       f'akurasi: {accuracy}',\n",
    "#       sep ='\\n' \n",
    "# )"
   ]
  },
  {
   "cell_type": "code",
   "execution_count": 42,
   "id": "05c97edc",
   "metadata": {},
   "outputs": [],
   "source": [
    "# classifier.score(X_test, y_test)"
   ]
  },
  {
   "cell_type": "markdown",
   "id": "27c0e659",
   "metadata": {},
   "source": [
    "### LINEAR REGRESION"
   ]
  },
  {
   "cell_type": "code",
   "execution_count": 49,
   "id": "9d8d3840",
   "metadata": {},
   "outputs": [
    {
     "data": {
      "image/png": "[encoded data removed]",
      "text/plain": [
       "<Figure size 640x480 with 1 Axes>"
      ]
     },
     "metadata": {},
     "output_type": "display_data"
    }
   ],
   "source": [
    "# # Load the diabetes dataset\n",
    "# diabetes_X, diabetes_y = datasets.load_diabetes(return_X_y=True) ## mengambil data diabetes\n",
    "\n",
    "# ## INFO :\n",
    "# ## Y = LABEL\n",
    "# ## X = DATA\n",
    "\n",
    "# # Use only one feature\n",
    "# diabetes_X = diabetes_X[:, np.newaxis, 2] \n",
    "\n",
    "# # Split the data into training/testing sets\n",
    "# diabetes_X_train = diabetes_X[:-20]\n",
    "# diabetes_X_test = diabetes_X[-20:]\n",
    "\n",
    "# # Split the targets into training/testing sets\n",
    "# diabetes_y_train = diabetes_y[:-20]\n",
    "# diabetes_y_test = diabetes_y[-20:]\n",
    "\n",
    "# # Create linear regression object\n",
    "# regr = linear_model.LinearRegression() ## definisikan algoritma\n",
    "\n",
    "# # Train the model using the training sets\n",
    "# regr.fit(diabetes_X_train, diabetes_y_train) \n",
    "\n",
    "# # Make predictions using the testing set\n",
    "# diabetes_y_pred = regr.predict(diabetes_X_test) ##prediksi\n",
    "\n",
    "# # Plot outputs\n",
    "# plt.scatter(diabetes_X_test, diabetes_y_test, color=\"black\")\n",
    "# plt.plot(diabetes_X_test, diabetes_y_pred, color=\"blue\", linewidth=3)\n",
    "# plt.xticks(())\n",
    "# plt.yticks(())\n",
    "# plt.show()"
   ]
  },
  {
   "cell_type": "markdown",
   "id": "700cfcdd",
   "metadata": {},
   "source": [
    "### CONFUSION MATRIX reg mnist"
   ]
  },
  {
   "cell_type": "code",
   "execution_count": null,
   "id": "0119bd1a",
   "metadata": {},
   "outputs": [],
   "source": []
  }
 ],
 "metadata": {
  "kernelspec": {
   "display_name": "Python 3 (ipykernel)",
   "language": "python",
   "name": "python3"
  },
  "language_info": {
   "codemirror_mode": {
    "name": "ipython",
    "version": 3
   },
   "file_extension": ".py",
   "mimetype": "text/x-python",
   "name": "python",
   "nbconvert_exporter": "python",
   "pygments_lexer": "ipython3",
   "version": "3.10.7"
  }
 },
 "nbformat": 4,
 "nbformat_minor": 5
}
