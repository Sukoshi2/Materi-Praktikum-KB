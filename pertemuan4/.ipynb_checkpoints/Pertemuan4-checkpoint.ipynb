{
 "cells": [
  {
   "cell_type": "markdown",
   "id": "410aa6b1",
   "metadata": {},
   "source": [
    "### Materi 3 Data Pre-Processing\n",
    "\n",
    "tentang pandas, numpy scikit-learn\n",
    "<a href=\"https://www.kaggle.com/datasets/sumanthvrao/daily-climate-time-series-data\"> **website untuk dataset climate**\n"
   ]
  },
  {
   "cell_type": "code",
   "execution_count": null,
   "id": "3ea9bdaa",
   "metadata": {},
   "outputs": [],
   "source": [
    "import pandas as pd\n",
    "import numpy as np\n"
   ]
  }
 ],
 "metadata": {
  "kernelspec": {
   "display_name": "Python 3 (ipykernel)",
   "language": "python",
   "name": "python3"
  },
  "language_info": {
   "codemirror_mode": {
    "name": "ipython",
    "version": 3
   },
   "file_extension": ".py",
   "mimetype": "text/x-python",
   "name": "python",
   "nbconvert_exporter": "python",
   "pygments_lexer": "ipython3",
   "version": "3.10.7"
  }
 },
 "nbformat": 4,
 "nbformat_minor": 5
}
